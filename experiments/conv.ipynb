{
 "cells": [
  {
   "cell_type": "code",
   "execution_count": null,
   "metadata": {},
   "outputs": [],
   "source": [
    "import torch\n",
    "import torch.nn as nn\n",
    "import matplotlib.pyplot as plt\n",
    "import albumentations as A\n",
    "import albumentations.pytorch\n",
    "import torchvision\n",
    "import numpy as np\n",
    "from PIL import Image"
   ]
  },
  {
   "cell_type": "code",
   "execution_count": null,
   "metadata": {},
   "outputs": [],
   "source": [
    "decoder = torchvision.transforms.ToPILImage()\n",
    "transforms = A.Compose([\n",
    "    A.pytorch.ToTensorV2()\n",
    "])"
   ]
  },
  {
   "cell_type": "code",
   "execution_count": null,
   "metadata": {},
   "outputs": [],
   "source": [
    "origin = Image.open('xichun.jpg').convert(\"RGB\").resize((512, 512))\n",
    "plt.imshow(origin)\n",
    "plt.show()\n",
    "nimage = np.array(origin)\n",
    "\n",
    "fimage = np.array(origin, dtype=np.float32)\n",
    "plt.imshow(fimage.astype(np.uint8))\n",
    "plt.show()"
   ]
  },
  {
   "cell_type": "code",
   "execution_count": null,
   "metadata": {},
   "outputs": [],
   "source": [
    "input = torch.FloatTensor(fimage).permute(2, 1, 0).unsqueeze(0)\n",
    "print(input.shape)\n",
    "t = input.squeeze(0)\n",
    "print(t.shape)\n",
    "\n",
    "outputs = [input]\n",
    "\n",
    "output = t.detach().permute(2, 1, 0).numpy().astype(np.uint8)\n",
    "plt.imshow(output)\n",
    "plt.show()"
   ]
  },
  {
   "cell_type": "code",
   "execution_count": null,
   "metadata": {},
   "outputs": [],
   "source": [
    "def show_image(output):\n",
    "    image = output.squeeze(0)\n",
    "    plt.imshow(image.detach().permute(2, 1, 0).numpy().astype(np.uint8) / 255.0)\n",
    "    plt.show()"
   ]
  },
  {
   "cell_type": "code",
   "execution_count": null,
   "metadata": {},
   "outputs": [],
   "source": [
    "# seed = 6666\n",
    "# torch.manual_seed(seed)\n",
    "# torch.cuda.manual_seed_all(seed)\n",
    "\n",
    "conv = nn.Conv2d(3, 3, kernel_size=3, stride=1, padding=1)\n",
    "output = conv(input)\n",
    "outputs.append(output)\n",
    "\n",
    "print(output.shape)\n",
    "\n",
    "show_image(output)"
   ]
  },
  {
   "cell_type": "code",
   "execution_count": null,
   "metadata": {},
   "outputs": [],
   "source": [
    "convtrans = nn.ConvTranspose2d(3, 3, kernel_size=3, stride=1, padding=1)\n"
   ]
  },
  {
   "cell_type": "code",
   "execution_count": null,
   "metadata": {},
   "outputs": [],
   "source": [
    "bn = nn.BatchNorm2d(3)\n",
    "output = bn(outputs[-1])\n",
    "outputs.append(output)\n",
    "show_image(output)"
   ]
  },
  {
   "cell_type": "code",
   "execution_count": null,
   "metadata": {},
   "outputs": [],
   "source": [
    "relu = nn.ReLU(True)\n",
    "output = relu(outputs[-2])\n",
    "show_image(output)\n",
    "outputs.append(output)"
   ]
  },
  {
   "cell_type": "code",
   "execution_count": null,
   "metadata": {},
   "outputs": [],
   "source": [
    "maxpool = nn.MaxPool2d(kernel_size=3, stride=2, padding=1)\n",
    "output = maxpool(outputs[-1])\n",
    "show_image(output)\n",
    "outputs.append(output)"
   ]
  },
  {
   "cell_type": "code",
   "execution_count": null,
   "metadata": {},
   "outputs": [],
   "source": [
    "a = torch.cat((outputs[0], outputs[1]), dim=3)\n",
    "print(a.shape)\n",
    "show_image(a)\n",
    "\n",
    "b = torch.cat((outputs[0], outputs[1]), dim=2)\n",
    "print(b.shape)\n",
    "show_image(b)\n",
    "\n",
    "c = torch.cat((outputs[0], outputs[1]), dim=1)\n",
    "print(c.shape)\n",
    "# show_image(output4)\n",
    "\n",
    "a, b = torch.split(c, [3, 3], dim=1)\n",
    "print(a.shape, a.shape)\n",
    "show_image(a)\n",
    "show_image(b)"
   ]
  }
 ],
 "metadata": {
  "interpreter": {
   "hash": "fc632e3e2dbfb89cad339d04687fc30b2594a21ef1e083a11a3b4029dc7df26a"
  },
  "kernelspec": {
   "display_name": "Python 3.6.8 64-bit ('test': virtualenv)",
   "language": "python",
   "name": "python3"
  },
  "language_info": {
   "codemirror_mode": {
    "name": "ipython",
    "version": 3
   },
   "file_extension": ".py",
   "mimetype": "text/x-python",
   "name": "python",
   "nbconvert_exporter": "python",
   "pygments_lexer": "ipython3",
   "version": "3.6.8"
  },
  "orig_nbformat": 4
 },
 "nbformat": 4,
 "nbformat_minor": 2
}
